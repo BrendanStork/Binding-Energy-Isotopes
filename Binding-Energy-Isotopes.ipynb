{
 "cells": [
  {
   "cell_type": "markdown",
   "metadata": {},
   "source": [
    "Question 1:\n",
    "B"
   ]
  },
  {
   "cell_type": "code",
   "execution_count": 82,
   "metadata": {},
   "outputs": [
    {
     "name": "stdout",
     "output_type": "stream",
     "text": [
      "493.915 MeV\n"
     ]
    }
   ],
   "source": [
    "import numpy as np\n",
    "\n",
    "\n",
    "def BindEnergy(Z, A): #Binding Energy function\n",
    "    a1=15.67\n",
    "    a2=17.23\n",
    "    a3=0.75\n",
    "    a4=93.5\n",
    "    if A%2==0 and Z%2==0: #Condition for A and Z even\n",
    "        a5=12.0\n",
    "    elif A%2==0 and Z%2!=0: #condition for A even Z odd\n",
    "        a5=-12.0\n",
    "    else: #else when A is odd\n",
    "        a5=0\n",
    "    B = a1*A-a2*A**(2/3)-a3*Z**2/A**(1/3)-a4*(A-2*Z)**2/A+a5/A**(1/2) #Binding energy equation\n",
    "    return print(np.round(B, 3), 'MeV')\n",
    "BindEnergy(28, 58)"
   ]
  },
  {
   "cell_type": "code",
   "execution_count": 146,
   "metadata": {},
   "outputs": [
    {
     "name": "stdout",
     "output_type": "stream",
     "text": [
      "A= 60 Bond Energy= 502.549 MeV\n"
     ]
    }
   ],
   "source": [
    "def BindEnergy2(Z, A): #Made a slightly different version of the BindEnergy function that just returns a float\n",
    "    a1=15.67\n",
    "    a2=17.23\n",
    "    a3=0.75\n",
    "    a4=93.5\n",
    "    if A%2==0 and Z%2==0: #Condition for A and Z even\n",
    "        a5=12.0\n",
    "    elif A%2==0 and Z%2!=0: #condition for A even Z odd\n",
    "        a5=-12.0\n",
    "    else: #else when A is odd\n",
    "        a5=0\n",
    "    B = a1*A-a2*A**(2/3)-a3*Z**2/A**(1/3)-a4*(A-2*Z)**2/A+a5/A**(1/2) #Binding energy equation\n",
    "    return B\n",
    "\n",
    "def Stable(Z): #Function determines most stable nucleus and returns the mass number and binding energy\n",
    "    Energylist=[]\n",
    "    for i in range(Z, 3*Z+1):\n",
    "        A=i\n",
    "        Energylist.append(BindEnergy2(Z, A))\n",
    "        \n",
    "    return print('A=', Energylist.index(np.max(Energylist))+Z, 'Bond Energy=', np.round(np.max(Energylist), 3), 'MeV')\n",
    "    #you add Z to the Energy list index because the range starts at Z. Otherwise, you do not get the correct A\n",
    "Stable(28)\n"
   ]
  },
  {
   "cell_type": "markdown",
   "metadata": {},
   "source": [
    "Extra Credit"
   ]
  },
  {
   "cell_type": "code",
   "execution_count": 68,
   "metadata": {},
   "outputs": [
    {
     "data": {
      "text/plain": [
       "[1.0,\n",
       " 0.6180339887498949,\n",
       " 0.3819660112501052,\n",
       " 0.23606797749978975,\n",
       " 0.14589803375031551,\n",
       " 0.09016994374947429,\n",
       " 0.05572809000084125]"
      ]
     },
     "execution_count": 68,
     "metadata": {},
     "output_type": "execute_result"
    }
   ],
   "source": [
    "def Phi_func_1(N): #first function to calculate a list of n powers of phi\n",
    "    phi= (np.sqrt(5)-1)/2 #phi value defined\n",
    "    phi_n=1 #value of phi**n at any given power. Initialized to one\n",
    "    phi_list=[1.0] #list intialized to 1.0 for the 0th power case\n",
    "\n",
    "    for i in range(1, N+1):\n",
    "        phi_n=phi*phi_n\n",
    "        phi_list.append(phi_n)\n",
    "    return phi_list\n",
    "Phi_func_1(6)"
   ]
  },
  {
   "cell_type": "code",
   "execution_count": 69,
   "metadata": {},
   "outputs": [
    {
     "data": {
      "text/plain": [
       "[1.0,\n",
       " 0.6180339887498949,\n",
       " 0.3819660112501052,\n",
       " 0.23606797749978975,\n",
       " 0.14589803375031551,\n",
       " 0.09016994374947429,\n",
       " 0.05572809000084125,\n",
       " 0.03444185374863305]"
      ]
     },
     "execution_count": 69,
     "metadata": {},
     "output_type": "execute_result"
    }
   ],
   "source": [
    "Phi_func_1(7)"
   ]
  },
  {
   "cell_type": "code",
   "execution_count": 66,
   "metadata": {},
   "outputs": [
    {
     "data": {
      "text/plain": [
       "[1.0,\n",
       " 0.6180339887498949,\n",
       " 0.3819660112501051,\n",
       " 0.2360679774997898,\n",
       " 0.1458980337503153,\n",
       " 0.09016994374947451,\n",
       " 0.05572809000084078]"
      ]
     },
     "execution_count": 66,
     "metadata": {},
     "output_type": "execute_result"
    }
   ],
   "source": [
    "def Phi_func_2(N): #second function to calculate a list of n powers of phi\n",
    "    phi_recur=[1.0, phi] #second list of powers of phi\n",
    "    for i in range(2, N+1):\n",
    "        phi_recur.append(phi_recur[i-2]-phi_recur[i-1]) #uses list indices of phi_recur to calculate next iteration\n",
    "    return phi_recur\n",
    "Phi_func_2(6)"
   ]
  },
  {
   "cell_type": "code",
   "execution_count": 70,
   "metadata": {},
   "outputs": [
    {
     "data": {
      "text/plain": [
       "[1.0,\n",
       " 0.6180339887498949,\n",
       " 0.3819660112501051,\n",
       " 0.2360679774997898,\n",
       " 0.1458980337503153,\n",
       " 0.09016994374947451,\n",
       " 0.05572809000084078,\n",
       " 0.03444185374863373]"
      ]
     },
     "execution_count": 70,
     "metadata": {},
     "output_type": "execute_result"
    }
   ],
   "source": [
    "Phi_func_2(7)"
   ]
  },
  {
   "cell_type": "code",
   "execution_count": 71,
   "metadata": {},
   "outputs": [
    {
     "data": {
      "text/plain": [
       "[1.0,\n",
       " 0.6180339887498949,\n",
       " 0.3819660112501052,\n",
       " 0.23606797749978975,\n",
       " 0.14589803375031551,\n",
       " 0.09016994374947429,\n",
       " 0.05572809000084125,\n",
       " 0.03444185374863305,\n",
       " 0.021286236252208206,\n",
       " 0.01315561749642485,\n",
       " 0.008130618755783357,\n",
       " 0.005024998740641495,\n",
       " 0.003105620015141862,\n",
       " 0.0019193787254996341,\n",
       " 0.0011862412896422286,\n",
       " 0.000733137435857406,\n",
       " 0.00045310385378482284,\n",
       " 0.00028003358207258323,\n",
       " 0.00017307027171223967,\n",
       " 0.00010696331036034358,\n",
       " 6.61069613518961e-05,\n",
       " 4.085634900844749e-05,\n",
       " 2.5250612343448615e-05,\n",
       " 1.560573666499888e-05,\n",
       " 9.64487567844974e-06,\n",
       " 5.960860986549141e-06,\n",
       " 3.6840146919005996e-06,\n",
       " 2.2768462946485426e-06,\n",
       " 1.4071683972520572e-06,\n",
       " 8.696778973964855e-07,\n",
       " 5.374904998555718e-07,\n",
       " 3.321873975409138e-07,\n",
       " 2.05303102314658e-07,\n",
       " 1.2688429522625587e-07,\n",
       " 7.841880708840217e-08,\n",
       " 4.846548813785372e-08,\n",
       " 2.995331895054845e-08,\n",
       " 1.8512169187305277e-08,\n",
       " 1.144114976324318e-08,\n",
       " 7.071019424062098e-09,\n",
       " 4.370130339181083e-09,\n",
       " 2.7008890848810156e-09,\n",
       " 1.6692412543000675e-09,\n",
       " 1.0316478305809483e-09,\n",
       " 6.375934237191192e-10,\n",
       " 3.940544068618291e-10]"
      ]
     },
     "execution_count": 71,
     "metadata": {},
     "output_type": "execute_result"
    }
   ],
   "source": [
    "Phi_func_1(45)"
   ]
  },
  {
   "cell_type": "code",
   "execution_count": 72,
   "metadata": {},
   "outputs": [
    {
     "data": {
      "text/plain": [
       "[1.0,\n",
       " 0.6180339887498949,\n",
       " 0.3819660112501051,\n",
       " 0.2360679774997898,\n",
       " 0.1458980337503153,\n",
       " 0.09016994374947451,\n",
       " 0.05572809000084078,\n",
       " 0.03444185374863373,\n",
       " 0.021286236252207047,\n",
       " 0.013155617496426686,\n",
       " 0.008130618755780361,\n",
       " 0.005024998740646325,\n",
       " 0.0031056200151340363,\n",
       " 0.0019193787255122885,\n",
       " 0.0011862412896217478,\n",
       " 0.0007331374358905407,\n",
       " 0.0004531038537312071,\n",
       " 0.0002800335821593336,\n",
       " 0.0001730702715718735,\n",
       " 0.00010696331058746011,\n",
       " 6.610696098441338e-05,\n",
       " 4.085634960304674e-05,\n",
       " 2.525061138136664e-05,\n",
       " 1.56057382216801e-05,\n",
       " 9.64487315968654e-06,\n",
       " 5.960865061993559e-06,\n",
       " 3.684008097692981e-06,\n",
       " 2.2768569643005776e-06,\n",
       " 1.4071511333924036e-06,\n",
       " 8.69705830908174e-07,\n",
       " 5.374453024842296e-07,\n",
       " 3.322605284239444e-07,\n",
       " 2.0518477406028524e-07,\n",
       " 1.2707575436365914e-07,\n",
       " 7.810901969662609e-08,\n",
       " 4.896673466703305e-08,\n",
       " 2.914228502959304e-08,\n",
       " 1.982444963744001e-08,\n",
       " 9.317835392153029e-09,\n",
       " 1.0506614245286983e-08,\n",
       " -1.1887788531339538e-09,\n",
       " 1.1695393098420936e-08,\n",
       " -1.288417195155489e-08,\n",
       " 2.4579565049975827e-08,\n",
       " -3.746373700153072e-08,\n",
       " 6.204330205150654e-08]"
      ]
     },
     "execution_count": 72,
     "metadata": {},
     "output_type": "execute_result"
    }
   ],
   "source": [
    "Phi_func_2(45)"
   ]
  },
  {
   "cell_type": "markdown",
   "metadata": {},
   "source": [
    "It can be seen that the function Phi_func_2 is the least accurate one, as after a certain point the function starts returning negative numbers, which is impossible. This is due to the subtraction being done in the function and the limited precision of floats. "
   ]
  }
 ],
 "metadata": {
  "kernelspec": {
   "display_name": "Python 3",
   "language": "python",
   "name": "python3"
  },
  "language_info": {
   "codemirror_mode": {
    "name": "ipython",
    "version": 3
   },
   "file_extension": ".py",
   "mimetype": "text/x-python",
   "name": "python",
   "nbconvert_exporter": "python",
   "pygments_lexer": "ipython3",
   "version": "3.8.5"
  }
 },
 "nbformat": 4,
 "nbformat_minor": 4
}
